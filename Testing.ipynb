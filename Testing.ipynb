{
 "cells": [
  {
   "cell_type": "code",
   "execution_count": 1,
   "metadata": {
    "scrolled": false
   },
   "outputs": [
    {
     "data": {
      "application/vnd.jupyter.widget-view+json": {
       "model_id": "44e9adbb999f4e75adbc17d67ef5408b",
       "version_major": 2,
       "version_minor": 0
      },
      "text/plain": [
       "interactive(children=(IntSlider(value=1, description='test_filename_id', max=1850), Dropdown(description='expe…"
      ]
     },
     "metadata": {},
     "output_type": "display_data"
    }
   ],
   "source": [
    "import torch\n",
    "import pandas as pd\n",
    "import numpy as np\n",
    "import os\n",
    "import torch.nn.functional as F\n",
    "import copy\n",
    "import matplotlib as mpl\n",
    "import matplotlib.pyplot as plt\n",
    "from ipywidgets import interact\n",
    "from os import listdir\n",
    "from os.path import isfile, join\n",
    "\n",
    "\n",
    "path = os.path.join(os.getcwd())\n",
    "dataset_path = os.path.join(path, \"datasets\", \"full_corrected_dataset\", \"test\")\n",
    "experiments_path = os.path.join(path, \"experiments\")\n",
    "\n",
    "filenames = [f for f in listdir(dataset_path) if isfile(join(dataset_path, f))]\n",
    "experiments = [f for f in listdir(experiments_path) if not isfile(join(experiments_path, f))]\n",
    "models = [\"best\", \"final\"]\n",
    "\n",
    "@interact(test_filename_id=(0,len(filenames)-1,1), experiment=experiments, bestOrFinal=models)\n",
    "def test_model(test_filename_id=1,experiment=1,bestOrFinal=1):\n",
    "    filename = filenames[test_filename_id]\n",
    "    experiment_name = experiment\n",
    "    model = bestOrFinal\n",
    "    model_path = os.path.join(experiments_path, experiment_name, \"model_weights\", \"model_\" + model + \".pth\")\n",
    "\n",
    "    mapping_path = os.path.join(path, \"datasets\", \"full_corrected_dataset_to_RAW_mapping.csv\")\n",
    "    file_path = os.path.join(dataset_path, filename)\n",
    "\n",
    "    mapping = pd.read_csv(mapping_path, sep=\";\")\n",
    "    data_csv = pd.read_csv(file_path)\n",
    "    \n",
    "    original_filename = mapping.loc[mapping['new_id'] == filename].values[:, 2][0]\n",
    "    tensors = []\n",
    "    padding_minimum = torch.zeros(180)\n",
    "    \n",
    "    if \"4cls\" in experiment_name:\n",
    "        names = [\"T1\", \"T2\", \"T3\", \"T4\"]\n",
    "    else:\n",
    "        names = [\"T1\", \"T2\", \"T3\", \"T4\", \"A+E\"]\n",
    "\n",
    "    data = data_csv.iloc[:, 1:].values[:, 0]\n",
    "    data = data - np.min(data)\n",
    "    data = data / np.max(data)\n",
    "    input_tensor = torch.tensor(data, dtype=torch.double)\n",
    "\n",
    "    tensors.append(input_tensor)\n",
    "    tensors.append(padding_minimum)\n",
    "    tensors = torch.nn.utils.rnn.pad_sequence(tensors, batch_first=True)\n",
    "    tensors = tensors[:-1]\n",
    "\n",
    "    model = torch.load(model_path,map_location=torch.device('cpu'))\n",
    "    model.eval()\n",
    "    outputs = model(tensors)\n",
    "    softmax_outputs = F.softmax(outputs, dim=1).tolist()[0]\n",
    "    \n",
    "    print(\"Filename: {}\\n\".format(str(filename)),\n",
    "         \"Original file location: {}\\n\".format(str(original_filename)),\n",
    "         \"Model: {}\\n{}\\n\".format(str(experiment_name), model),\n",
    "         \"Original class: {}\\n\".format(filename.split(\"_\")[0]),\n",
    "         \"Predicted class: {}\\n\".format(names[np.argmax(softmax_outputs, axis=0)]),\n",
    "         \"Predicted probability: {}\\n\".format(np.max(softmax_outputs)))\n",
    "    \n",
    "    plt.figure(figsize=(12,12))\n",
    "    plt.subplot(211)\n",
    "    plt.plot(data_csv.iloc[:, 0:].values[:, 0],data_csv.iloc[:, 1:].values[:, 0])\n",
    "\n",
    "    plt.subplot(212)\n",
    "    plt.bar(names, softmax_outputs)\n",
    "    plt.show()\n"
   ]
  },
  {
   "cell_type": "code",
   "execution_count": null,
   "metadata": {},
   "outputs": [],
   "source": []
  }
 ],
 "metadata": {
  "kernelspec": {
   "display_name": "Python 3",
   "language": "python",
   "name": "python3"
  },
  "language_info": {
   "codemirror_mode": {
    "name": "ipython",
    "version": 3
   },
   "file_extension": ".py",
   "mimetype": "text/x-python",
   "name": "python",
   "nbconvert_exporter": "python",
   "pygments_lexer": "ipython3",
   "version": "3.7.4"
  },
  "varInspector": {
   "cols": {
    "lenName": 16,
    "lenType": 16,
    "lenVar": 40
   },
   "kernels_config": {
    "python": {
     "delete_cmd_postfix": "",
     "delete_cmd_prefix": "del ",
     "library": "var_list.py",
     "varRefreshCmd": "print(var_dic_list())"
    },
    "r": {
     "delete_cmd_postfix": ") ",
     "delete_cmd_prefix": "rm(",
     "library": "var_list.r",
     "varRefreshCmd": "cat(var_dic_list()) "
    }
   },
   "types_to_exclude": [
    "module",
    "function",
    "builtin_function_or_method",
    "instance",
    "_Feature"
   ],
   "window_display": false
  }
 },
 "nbformat": 4,
 "nbformat_minor": 2
}
